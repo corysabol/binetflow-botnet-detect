{
 "cells": [
  {
   "cell_type": "markdown",
   "metadata": {},
   "source": [
    "# Naive Bayes\n",
    "---\n",
    "Naive Bayes is an algorithm which is based upon Bayes' theorem\n",
    "\n",
    "$$P(A|B) = \\frac{P(B|A)P(A)}{P(A)}$$\n",
    "\n",
    "where **A** and **B** are events and $P(B) \\neq 0$.\n",
    "* $P(A) and $P(B)$ are the probabilities of observing **A** and **B** without regard to each other.\n",
    "\n",
    "* $P(A|B), a conditional probability, is the probability of observing event **A** given that **B** is true.\n",
    "\n",
    "* $P(B|A) is the probability of observing the event **B** given that **A** is true.\n",
    "\n",
    "#### Let's look at an example\n",
    "Suppose you have to draw a single card from a standard deck of 52 cards. Now the probability that the card is a Queen is $P(Queen) = \\frac{4}{52} = \\frac{1}{13}$. If you are given evidence that the card that you have picked is a face card, the posterior probability $P(Queen|Face)$ can be calculated using Bayes' Theorem as follows:\n",
    "\n",
    "$$P(Queen|Face) = \\frac{P(Face|Queen)}{P(Face)}*{P(Queen)}$$\n",
    "\n",
    "Now $P(Face|Queen)$ = 1 because given the card is Queen, it is definitely a face card. We have already calculated $P(Queen)$. The only value left to calculate is $P(Face)$, which is equal to $\\frac{3}{13}$ as there are three face cards for every suit in a deck. Therefore,\n",
    "\n",
    "$$P(Queen|Face) = \\frac{1}{13}*\\frac{13}{3} = \\frac{1}{3}$$\n",
    "\n",
    "## Bayes' Theorem for Naive Bayes Algorithm\n",
    "---\n",
    "Suppose we have multiple classes; $C_1,C_2,...,C_k$. We want to calculate the conditional probability that an object with a feature vector $x_1,x_2,...,x_n$ belongs to a particular class $C_i$,\n",
    "\n",
    "$$P(C_i|x_1,x_2,...,x_n) = \\frac{P(x_1,x_2,...,x_n|C_i)*P(C_i)}{P(x_1,x_2,...,x_n)} \\quad for \\quad 1 \\leq i \\leq k$$\n",
    "\n",
    "The above expression yields a simpler expression below;\n",
    "\n",
    "$$P(C_i|x_1,x_2,...,x_n)\\infty = \\left(\\prod_{j=1}^{j=n}P(x_j|C_i) \\right)*P(C_i) \\quad for \\quad 1 \\leq i \\leq k$$"
   ]
  },
  {
   "cell_type": "markdown",
   "metadata": {},
   "source": [
    "# Python Example\n",
    "Let's use python and scikit-learn to build the naive bayes algorithm."
   ]
  },
  {
   "cell_type": "code",
   "execution_count": 2,
   "metadata": {
    "collapsed": true
   },
   "outputs": [],
   "source": [
    "# we want to do a simple clustering on the famous Iris dataset"
   ]
  },
  {
   "cell_type": "markdown",
   "metadata": {},
   "source": [
    "# Decision Trees\n",
    "---"
   ]
  },
  {
   "cell_type": "markdown",
   "metadata": {},
   "source": [
    "# Process the Data!\n",
    "We have quite a lot of data in the form of binetflows. "
   ]
  }
 ],
 "metadata": {
  "kernelspec": {
   "display_name": "Python 3",
   "language": "python",
   "name": "python3"
  },
  "language_info": {
   "codemirror_mode": {
    "name": "ipython",
    "version": 3
   },
   "file_extension": ".py",
   "mimetype": "text/x-python",
   "name": "python",
   "nbconvert_exporter": "python",
   "pygments_lexer": "ipython3",
   "version": "3.6.1"
  }
 },
 "nbformat": 4,
 "nbformat_minor": 2
}
